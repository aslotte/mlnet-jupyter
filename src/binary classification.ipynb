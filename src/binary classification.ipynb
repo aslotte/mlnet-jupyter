{
 "cells": [
  {
   "cell_type": "markdown",
   "metadata": {},
   "source": [
    "### Binary classification\n",
    "\n",
    "**Rationale**: Predict the sentiment of customer reviews"
   ]
  },
  {
   "cell_type": "code",
   "execution_count": 1,
   "metadata": {},
   "outputs": [
    {
     "data": {
      "text/html": [
       "Installing package Microsoft.ML, version 1.4.0.................done!"
      ]
     },
     "metadata": {},
     "output_type": "display_data"
    },
    {
     "data": {
      "text/html": [
       "Successfully added reference to package Microsoft.ML, version 1.4.0"
      ]
     },
     "metadata": {},
     "output_type": "display_data"
    },
    {
     "data": {
      "text/html": [
       "Installing package XPlot.Plotly, version 2.0.0.....done!"
      ]
     },
     "metadata": {},
     "output_type": "display_data"
    },
    {
     "data": {
      "text/html": [
       "Successfully added reference to package XPlot.Plotly, version 2.0.0"
      ]
     },
     "metadata": {},
     "output_type": "display_data"
    },
    {
     "data": {
      "text/html": [
       "Installing package System.Data.SqlClient, version 4.2.0........done!"
      ]
     },
     "metadata": {},
     "output_type": "display_data"
    },
    {
     "data": {
      "text/html": [
       "Successfully added reference to package System.Data.SqlClient, version 4.2.0"
      ]
     },
     "metadata": {},
     "output_type": "display_data"
    }
   ],
   "source": [
    "// ML.NET Nuget packages \n",
    "#r \"nuget:Microsoft.ML,1.4.0\"  \n",
    "    \n",
    "//Install XPlot package\n",
    "#r \"nuget:XPlot.Plotly,2.0.0\"\n",
    "\n",
    "using Microsoft.ML;\n",
    "using Microsoft.ML.Data;\n",
    "using XPlot.Plotly;"
   ]
  },
  {
   "cell_type": "code",
   "execution_count": 2,
   "metadata": {},
   "outputs": [],
   "source": [
    "using Microsoft.ML.Data;\n",
    "\n",
    "public class ProductReview \n",
    "{   \n",
    "    [LoadColumn(0)]\n",
    "    public bool Sentiment;\n",
    "       \n",
    "    [LoadColumn(1)]\n",
    "    public string Review;     \n",
    "}"
   ]
  },
  {
   "cell_type": "code",
   "execution_count": 4,
   "metadata": {},
   "outputs": [],
   "source": [
    "var dataPath = \"./Datasets/Binary-Classification Sentiment/product_reviews.csv\";\n",
    "\n",
    "var mlContext = new MLContext(seed: 1);\n",
    "\n",
    "IDataView dataView = mlContext.Data.LoadFromTextFile<ProductReview>(dataPath, hasHeader: true, separatorChar: ',');"
   ]
  },
  {
   "cell_type": "markdown",
   "metadata": {},
   "source": [
    "#### Data exploration"
   ]
  },
  {
   "cell_type": "code",
   "execution_count": 5,
   "metadata": {},
   "outputs": [
    {
     "data": {
      "text/html": [
       "<table><thead><tr><th><i>index</i></th><th>Sentiment</th><th>Review</th></tr></thead><tbody><tr><td>0</td><td>True</td><td>&quot; I have read a couple of other disappointing reviews and was so-o-o-o skeptical! I also bought over the years a few of the A/C vent mounts for cell phone and gave up on liking any of them. They always had been flimsy and shaky snapping off in a second... NOT THIS ONE! I have used it for a week and loved every second of it!1. It does stick to the &quot;&quot;pimpled&quot;&quot; dashboard and doesn&#39;t care: I cannot pull it with both hands!2. The phone does stick to the sticky pad. Actually it is a bit of a problem because every time I stop the car and want to remove the phone I have to struggle with the sticky pad: it holds the phone very strongly.3. It does recovery after washing: after it got a bit dusty I washed it gently with a soap rinsed well and air-dried. That was it: works like new.Maybe I got lucky with this unit but it works and I love it. One suggestion: do not throw away a thick plastic cover on the sticky pad for the phone: it will work as a handy protector of the sticky pad when the phone is removed for extended periods of time.&quot;</td></tr><tr><td>1</td><td>True</td><td>Be aware what your device supports! I initially purchased this for a Google/LG Nexus 5 cell phone which does not support MHL.  However we also have a Google/Samsung Galaxy Nexus (or Nexus 3) which this cable works brilliantly with.Be aware that MHL and SlimPort are the two competing cable designs and you must know which your phone or tablet can use.</td></tr><tr><td>2</td><td>True</td><td>I have both the Frost Black and Frost White versions of this case.  Both are excellent.  The Frost Black version does not allow you to see any details from the back of the phone.  The Frost White has some transparency on the back so you can still see the Nexus logo but not the reflective glass back.  The case allows all ports cameras flash and speaker to be accessible.  What I love most about the case is that the material used to cover the volume rocker and power button provide very good feedback and in my opinion make the buttons much easier to push without your finger slipping in the midst of trying to do something else like maneuver the phone.  I would not buy a different case with my N4.</td></tr><tr><td>3</td><td>True</td><td>OEM HTC USB Travel Charger Adapte. Ordered this as a spare charger for my HTC Thunderbolt - it looks just like the one that came with my phone but the AC adapter does not work. &amp;#8221;</td></tr><tr><td>4</td><td>True</td><td>The Samsung Note 2 Spare battery charging station is a great addition to my phone with multiple uses.The first day and night I used the Samsung charging station I seen the benefits. Stand served as a great holder for Note 2 for my alarm app. I watched videos on the stand without having to hold my Note 2 in my hands for long periods of time. While watching videos I had installed the spare battery to charge. This was a blessing because the next morning when getting ready for work I found I forgot to plug in phone and had only 25% remaining. I use my phone all day for reports audits pictures emails calls and media. Then I remembered the spare battery inside charging station. This is the only experience I needed to see and know this is a life saver product. Great size portable for when I travel can plug charging station cable straight into phone to charge current battery allowing me to have a backup battery in case of emergencies. I rate this product a 5 star based on personally experiencing the importance of having a backup.</td></tr><tr><td>5</td><td>False</td><td>Lousy.  Slips off of the neck. Almost lost them twice in twelve hours.  Unless you&#39;d like to use a foolish looking and uncomfortable clip.  No thanks.  Earbuds are bulky and unwieldy.  Controls are limited to 3 buttons which have a number of combinations that are supposed to control everything.  What a pain!  I never did get them to do half of what they were supposed to.  Sent them back.</td></tr><tr><td>6</td><td>True</td><td>These are so much better than I expected honestly.  First off - looking at the photos I thought the neck band would be stiff but it&#39;s not! It&#39;s super soft and wraps nicely around my head.  Honestly I fell asleep with these on laying on my back!The sound is AMAZING for how they are shaped.  I thought for sure they would sound strange because of the way the ears are shaped but they are so crystal clear and make my music sound even better.They&#39;re really easy to use. Just hold down the button to turn it on and then use the little buttons on the ears to make it go.  There are these little black tabs on each ear to help you identify which ear does what.  I found this very useful.The battery life exceeded the stated 8 hours of music play. I fell asleep for about 9 hours and woke up with them still playing from a full charge.These headphones have changed my life. In fact I am now selling my Bose headphones on eBay because I love these so much.  They are so soft!</td></tr><tr><td>7</td><td>True</td><td>Not much to say other than this has been the easiest and most perfect screen protector I&#39;ve used to date.  Followed the instructions and had everything done within three minutes.  No bubbles no complicated adhesives no dust perfect fit.  I&#39;ve had this on my phone for a few months now with very heavy usage and still no scratches or wear to speak of.  Shipped free directly from Realook and arrived within two days.  They send you two protectors with your order (for unlikely mistakes or future use down the road).  Outstanding!</td></tr><tr><td>8</td><td>True</td><td>We are extremely happy with 5star for my 84 year old grandmother.  She wears it daily and I check the system frequently to make sure everything is in working order.  Customer service cannot be beat - everyone has been extremely friendly.  It&#39;s very easy to setup and my grandmother knows that help can be on the way in seconds if she ever needs it.  I can&#39;t stress enough how much I urge people to get the 5star for elderly people - it&#39;s a very cheap system that offers great peace of mind.</td></tr><tr><td>9</td><td>True</td><td>Like Tiffany&#39;s robins egg blue.  The case is sturdy and priced well. The only reason I replaced it was because my grand kids got me one with their photos on it.</td></tr></tbody></table>"
      ]
     },
     "metadata": {},
     "output_type": "display_data"
    }
   ],
   "source": [
    "var rows = mlContext.Data.CreateEnumerable<ProductReview>(dataView, reuseRowObject: false)\n",
    "                    .Take(10)\n",
    "                    .ToList();\n",
    "\n",
    "display(rows);"
   ]
  },
  {
   "cell_type": "markdown",
   "metadata": {},
   "source": [
    "#### Plotting"
   ]
  },
  {
   "cell_type": "code",
   "execution_count": 6,
   "metadata": {},
   "outputs": [
    {
     "data": {
      "text/html": [
       "<div id=\"6b3c02ef-d8e5-4816-a931-87ec43aa277a\" style=\"width: 900px; height: 500px;\"></div><script type=\"text/javascript\">\r\n",
       "\r\n",
       "var renderPlotly = function() {\r\n",
       "    var xplotRequire = requirejs.config({context:'xplot-2.0.0',paths:{plotly:'https://cdn.plot.ly/plotly-1.49.2.min'}});\r\n",
       "    xplotRequire(['plotly'], function(Plotly) {\r\n",
       "\n",
       "            var data = [{\"type\":\"pie\",\"labels\":[\"Positive\",\"Negative\"],\"values\":[108602,13269]}];\n",
       "            var layout = \"\";\n",
       "            Plotly.newPlot('6b3c02ef-d8e5-4816-a931-87ec43aa277a', data, layout);\n",
       "        });\r\n",
       "};\r\n",
       "if ((typeof(requirejs) !==  typeof(Function)) || (typeof(requirejs.config) !== typeof(Function))) { \r\n",
       "    var script = document.createElement(\"script\"); \r\n",
       "    script.setAttribute(\"src\", \"https://cdnjs.cloudflare.com/ajax/libs/require.js/2.3.6/require.min.js\"); \r\n",
       "    script.onload = function(){\r\n",
       "        renderPlotly();\r\n",
       "    };\r\n",
       "    document.getElementsByTagName(\"head\")[0].appendChild(script); \r\n",
       "}\r\n",
       "else {\r\n",
       "    renderPlotly();\r\n",
       "}\r\n",
       "</script>"
      ]
     },
     "execution_count": 6,
     "metadata": {},
     "output_type": "execute_result"
    }
   ],
   "source": [
    "var countPositiveSentiment = dataView.GetColumn<bool>(\"Sentiment\").Count(x => x == true);\n",
    "var countNegativeSentiment = dataView.GetColumn<bool>(\"Sentiment\").Count(x => x == false);\n",
    "\n",
    "var values = new List<int> { countPositiveSentiment, countNegativeSentiment};\n",
    "var labels = new List<string> { \"Positive\", \"Negative\" };\n",
    "\n",
    "var pieChart = Chart.Plot(new Graph.Pie \n",
    "{\n",
    "    labels = labels,\n",
    "    values = values\n",
    "});\n",
    "\n",
    "pieChart"
   ]
  },
  {
   "cell_type": "markdown",
   "metadata": {},
   "source": [
    "#### Split our data"
   ]
  },
  {
   "cell_type": "code",
   "execution_count": 7,
   "metadata": {},
   "outputs": [],
   "source": [
    "var trainTestSplit = mlContext.Data.TrainTestSplit(dataView);"
   ]
  },
  {
   "cell_type": "markdown",
   "metadata": {},
   "source": [
    "#### Data Transformation"
   ]
  },
  {
   "cell_type": "code",
   "execution_count": 8,
   "metadata": {},
   "outputs": [],
   "source": [
    "var dataProcessPipeline = mlContext.Transforms.Text.FeaturizeText(\"Review\")\n",
    "        .Append(mlContext.Transforms.CopyColumns(\"Features\", \"Review\"))\n",
    "        .Append(mlContext.Transforms.NormalizeMinMax(\"Features\", \"Features\"));"
   ]
  },
  {
   "cell_type": "code",
   "execution_count": 9,
   "metadata": {},
   "outputs": [],
   "source": [
    "var trainer = mlContext.BinaryClassification.Trainers.LbfgsLogisticRegression(labelColumnName: \"Sentiment\", featureColumnName: \"Features\");\n",
    "\n",
    "var trainingPipeline = dataProcessPipeline.Append(trainer);"
   ]
  },
  {
   "cell_type": "markdown",
   "metadata": {},
   "source": [
    "##### Train the model"
   ]
  },
  {
   "cell_type": "code",
   "execution_count": 10,
   "metadata": {},
   "outputs": [],
   "source": [
    "ITransformer model = trainingPipeline.Fit(trainTestSplit.TrainSet);"
   ]
  },
  {
   "cell_type": "markdown",
   "metadata": {},
   "source": [
    "#### Evaluate the model"
   ]
  },
  {
   "cell_type": "code",
   "execution_count": 11,
   "metadata": {},
   "outputs": [
    {
     "data": {
      "text/plain": [
       "Recall: 0.9863189789734643"
      ]
     },
     "metadata": {},
     "output_type": "display_data"
    },
    {
     "data": {
      "text/plain": [
       "Accuracy: 0.9590931493346476"
      ]
     },
     "metadata": {},
     "output_type": "display_data"
    },
    {
     "data": {
      "text/plain": [
       "F1Score: 0.9773451005368029"
      ]
     },
     "metadata": {},
     "output_type": "display_data"
    }
   ],
   "source": [
    "var predicitions = model.Transform(trainTestSplit.TestSet);\n",
    "var metrics = mlContext.BinaryClassification.Evaluate(predicitions, labelColumnName: \"Sentiment\");\n",
    "\n",
    "display(\"Recall:\" + \" \" + metrics.PositiveRecall);\n",
    "display(\"Accuracy:\" + \" \" + metrics.Accuracy);\n",
    "display(\"F1Score:\" + \" \" + metrics.F1Score); "
   ]
  },
  {
   "cell_type": "markdown",
   "metadata": {},
   "source": [
    "#### Save the model"
   ]
  },
  {
   "cell_type": "code",
   "execution_count": 12,
   "metadata": {},
   "outputs": [],
   "source": [
    "mlContext.Model.Save(model, trainTestSplit.TrainSet.Schema, \"sentimentClassifier.zip\");"
   ]
  }
 ],
 "metadata": {
  "kernelspec": {
   "display_name": ".NET (C#)",
   "language": "C#",
   "name": ".net-csharp"
  },
  "language_info": {
   "file_extension": ".cs",
   "mimetype": "text/x-csharp",
   "name": "C#",
   "pygments_lexer": "csharp",
   "version": "8.0"
  }
 },
 "nbformat": 4,
 "nbformat_minor": 2
}
