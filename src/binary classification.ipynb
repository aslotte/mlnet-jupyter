{
 "cells": [
  {
   "cell_type": "markdown",
   "metadata": {},
   "source": [
    "### Binary classification\n",
    "\n",
    "**Rationale**: Predict the sentiment of customer reviews"
   ]
  },
  {
   "cell_type": "code",
   "execution_count": 1,
   "metadata": {},
   "outputs": [
    {
     "data": {
      "text/html": [
       "Installing package Microsoft.ML, version 1.4.0-preview2...............done!"
      ]
     },
     "metadata": {},
     "output_type": "display_data"
    },
    {
     "data": {
      "text/html": [
       "Successfully added reference to package Microsoft.ML, version 1.4.0-preview2"
      ]
     },
     "metadata": {},
     "output_type": "display_data"
    },
    {
     "data": {
      "text/html": [
       "Installing package XPlot.Plotly, version 2.0.0.....done!"
      ]
     },
     "metadata": {},
     "output_type": "display_data"
    },
    {
     "data": {
      "text/html": [
       "Successfully added reference to package XPlot.Plotly, version 2.0.0"
      ]
     },
     "metadata": {},
     "output_type": "display_data"
    },
    {
     "data": {
      "text/html": [
       "Installing package Microsoft.ML.Experimental, version 0.16.0-preview.....done!"
      ]
     },
     "metadata": {},
     "output_type": "display_data"
    },
    {
     "data": {
      "text/html": [
       "Successfully added reference to package Microsoft.ML.Experimental, version 0.16.0-preview"
      ]
     },
     "metadata": {},
     "output_type": "display_data"
    },
    {
     "data": {
      "text/html": [
       "Installing package System.Data.SqlClient, version 4.6.0.....done!"
      ]
     },
     "metadata": {},
     "output_type": "display_data"
    },
    {
     "data": {
      "text/html": [
       "Successfully added reference to package System.Data.SqlClient, version 4.6.0"
      ]
     },
     "metadata": {},
     "output_type": "display_data"
    }
   ],
   "source": [
    "// ML.NET Nuget packages \n",
    "#r \"nuget:Microsoft.ML,1.4.0-preview2\"  \n",
    "    \n",
    "//Install XPlot package\n",
    "#r \"nuget:XPlot.Plotly,2.0.0\"\n",
    "\n",
    "//Install Databaseloader\n",
    "#r \"nuget:Microsoft.ML.Experimental,0.16.0-preview\"\n",
    "#r \"nuget:System.Data.SqlClient,4.6.0\"\n",
    "\n",
    "using Microsoft.ML;\n",
    "using Microsoft.ML.Data;\n",
    "using XPlot.Plotly;\n",
    "using System.Data.SqlClient;"
   ]
  },
  {
   "cell_type": "code",
   "execution_count": 5,
   "metadata": {},
   "outputs": [],
   "source": [
    "using Microsoft.ML.Data;\n",
    "\n",
    "public class ProductReview \n",
    "{   \n",
    "    [LoadColumn(0)]\n",
    "    public bool Sentiment;\n",
    "       \n",
    "    [LoadColumn(1)]\n",
    "    public string Review;     \n",
    "}"
   ]
  },
  {
   "cell_type": "code",
   "execution_count": 3,
   "metadata": {},
   "outputs": [
    {
     "ename": "Unhandled Exception",
     "evalue": "Could not load file or assembly 'System.Data.SqlClient, Version=4.5.0.0, Culture=neutral, PublicKeyToken=b03f5f7f11d50a3a'. Reference assemblies should not be loaded for execution.  They can only be loaded in the Reflection-only loader context. (0x80131058)",
     "output_type": "error",
     "traceback": [
      "Unhandled Exception",
      "Could not load file or assembly 'System.Data.SqlClient, Version=4.5.0.0, Culture=neutral, PublicKeyToken=b03f5f7f11d50a3a'. Reference assemblies should not be loaded for execution.  They can only be loaded in the Reflection-only loader context. (0x80131058)",
      "   at Submission#7.<<Initialize>>d__0.MoveNext()",
      "   at System.Runtime.CompilerServices.AsyncMethodBuilderCore.Start[TStateMachine](TStateMachine& stateMachine)",
      "   at Submission#7.<Initialize>()",
      "   at Submission#7.<Factory>(Object[] submissionArray)",
      "   at Microsoft.CodeAnalysis.Scripting.ScriptExecutionState.RunSubmissionsAsync[TResult](ImmutableArray`1 precedingExecutors, Func`2 currentExecutor, StrongBox`1 exceptionHolderOpt, Func`2 catchExceptionOpt, CancellationToken cancellationToken)"
     ]
    }
   ],
   "source": [
    "var mlContext = new MLContext(seed: 1);\n",
    "\n",
    "var loader = mlContext.Data.CreateDatabaseLoader<ProductReview>();\n",
    "\n",
    "string connectionString = @\"Data Source=DESKTOP-H8AH0LO\\SQLEXPRESS;Initial Catalog=mlnet;Integrated Security=True\";\n",
    "string sqlCommand = \"SELECT Sentiment, Review FROM Product\";\n",
    "\n",
    "var dbSource = new DatabaseSource(SqlClientFactory.Instance, connectionString, sqlCommand);\n",
    "\n",
    "IDataView dataView = loader.Load(dbSource);"
   ]
  },
  {
   "cell_type": "code",
   "execution_count": 6,
   "metadata": {},
   "outputs": [],
   "source": [
    "var dataPath = \"./Datasets/Binary-Classification Sentiment/product_reviews.csv\";\n",
    "\n",
    "var mlContext = new MLContext(seed: 1);\n",
    "\n",
    "IDataView dataView = mlContext.Data.LoadFromTextFile<ProductReview>(dataPath, hasHeader: true, separatorChar: ',');"
   ]
  },
  {
   "cell_type": "markdown",
   "metadata": {},
   "source": [
    "#### Data exploration"
   ]
  },
  {
   "cell_type": "code",
   "execution_count": 7,
   "metadata": {},
   "outputs": [
    {
     "data": {
      "text/html": [
       "<table><thead><tr><th><i>index</i></th><th>Sentiment</th><th>Review</th></tr></thead><tbody><tr><td>0</td><td>True</td><td>I like the item pricing. My granddaughter wanted to mark on it but I wanted it just for the letters.</td></tr><tr><td>1</td><td>True</td><td>Love the magnet easel... great for moving to different areas... Wish it had some sort of non skid pad on bottom though...</td></tr><tr><td>2</td><td>True</td><td>&quot;Both sides are magnetic.  A real plus when you&#39;re entertaining more than one child.  The four-year old can find the letters for the words</td></tr><tr><td>3</td><td>True</td><td>&quot;Bought one a few years ago for my daughter and she loves it</td></tr><tr><td>4</td><td>True</td><td>I have a stainless steel refrigerator therefore there are not much space for my son to play with his magnet. Brought this for him to put his magnet on. He enjoys sticking his magnet on it. Great to have so he can play with his alphabet magnets.</td></tr></tbody></table>"
      ]
     },
     "metadata": {},
     "output_type": "display_data"
    }
   ],
   "source": [
    "var rows = mlContext.Data.CreateEnumerable<ProductReview>(dataView, reuseRowObject: false)\n",
    "                    .Take(5)\n",
    "                    .ToList();\n",
    "\n",
    "display(rows);"
   ]
  },
  {
   "cell_type": "markdown",
   "metadata": {},
   "source": [
    "#### Plotting"
   ]
  },
  {
   "cell_type": "code",
   "execution_count": 8,
   "metadata": {},
   "outputs": [
    {
     "data": {
      "text/html": [
       "<div id=\"be1fe830-5b9d-4c3d-8749-d50ab18406f4\" style=\"width: 900px; height: 500px;\"></div><script type=\"text/javascript\">\r\n",
       "\r\n",
       "var renderPlotly = function() {\r\n",
       "    var xplotRequire = requirejs.config({context:'xplot-2.0.0',paths:{plotly:'https://cdn.plot.ly/plotly-1.49.2.min'}});\r\n",
       "    xplotRequire(['plotly'], function(Plotly) {\r\n",
       "\n",
       "            var data = [{\"type\":\"pie\",\"labels\":[\"Positive\",\"Negative\"],\"values\":[156512,10992]}];\n",
       "            var layout = \"\";\n",
       "            Plotly.newPlot('be1fe830-5b9d-4c3d-8749-d50ab18406f4', data, layout);\n",
       "        });\r\n",
       "};\r\n",
       "if ((typeof(requirejs) !==  typeof(Function)) || (typeof(requirejs.config) !== typeof(Function))) { \r\n",
       "    var script = document.createElement(\"script\"); \r\n",
       "    script.setAttribute(\"src\", \"https://cdnjs.cloudflare.com/ajax/libs/require.js/2.3.6/require.min.js\"); \r\n",
       "    script.onload = function(){\r\n",
       "        renderPlotly();\r\n",
       "    };\r\n",
       "    document.getElementsByTagName(\"head\")[0].appendChild(script); \r\n",
       "}\r\n",
       "else {\r\n",
       "    renderPlotly();\r\n",
       "}\r\n",
       "</script>"
      ]
     },
     "execution_count": 8,
     "metadata": {},
     "output_type": "execute_result"
    }
   ],
   "source": [
    "var countPositiveSentiment = dataView.GetColumn<bool>(\"Sentiment\").Count(x => x == true);\n",
    "var countNegativeSentiment = dataView.GetColumn<bool>(\"Sentiment\").Count(x => x == false);\n",
    "\n",
    "var values = new List<int> { countPositiveSentiment, countNegativeSentiment};\n",
    "var labels = new List<string> { \"Positive\", \"Negative\" };\n",
    "\n",
    "var pieChart = Chart.Plot(new Graph.Pie \n",
    "{\n",
    "    labels = labels,\n",
    "    values = values\n",
    "});\n",
    "\n",
    "pieChart"
   ]
  },
  {
   "cell_type": "markdown",
   "metadata": {},
   "source": [
    "#### Split our data"
   ]
  },
  {
   "cell_type": "code",
   "execution_count": 9,
   "metadata": {},
   "outputs": [],
   "source": [
    "var trainTestSplit = mlContext.Data.TrainTestSplit(dataView);"
   ]
  },
  {
   "cell_type": "markdown",
   "metadata": {},
   "source": [
    "#### Data Transformation"
   ]
  },
  {
   "cell_type": "code",
   "execution_count": 10,
   "metadata": {},
   "outputs": [],
   "source": [
    "var dataProcessPipeline = mlContext.Transforms.Text.FeaturizeText(\"Review\")\n",
    "        .Append(mlContext.Transforms.CopyColumns(\"Features\", \"Review\"))\n",
    "        .Append(mlContext.Transforms.NormalizeMinMax(\"Features\", \"Features\"));"
   ]
  },
  {
   "cell_type": "code",
   "execution_count": 12,
   "metadata": {},
   "outputs": [],
   "source": [
    "var trainer = mlContext.BinaryClassification.Trainers.LbfgsLogisticRegression(labelColumnName: \"Sentiment\", featureColumnName: \"Features\");\n",
    "\n",
    "var trainingPipeline = dataProcessPipeline.Append(trainer);"
   ]
  },
  {
   "cell_type": "markdown",
   "metadata": {},
   "source": [
    "##### Train the model"
   ]
  },
  {
   "cell_type": "code",
   "execution_count": 13,
   "metadata": {},
   "outputs": [],
   "source": [
    "ITransformer model = trainingPipeline.Fit(trainTestSplit.TrainSet);"
   ]
  },
  {
   "cell_type": "markdown",
   "metadata": {},
   "source": [
    "#### Evaluate the model"
   ]
  },
  {
   "cell_type": "code",
   "execution_count": 17,
   "metadata": {},
   "outputs": [
    {
     "data": {
      "text/plain": [
       "Accuracy: 0.9378064824781724"
      ]
     },
     "metadata": {},
     "output_type": "display_data"
    },
    {
     "data": {
      "text/plain": [
       "F1Score: 0.9675790261238231"
      ]
     },
     "metadata": {},
     "output_type": "display_data"
    }
   ],
   "source": [
    "var predicitions = model.Transform(trainTestSplit.TestSet);\n",
    "var metrics = mlContext.BinaryClassification.Evaluate(predicitions, labelColumnName: \"Sentiment\");\n",
    "\n",
    "display(\"Accuracy:\" + \" \" + metrics.Accuracy);\n",
    "display(\"F1Score:\" + \" \" + metrics.F1Score); "
   ]
  },
  {
   "cell_type": "markdown",
   "metadata": {},
   "source": [
    "#### Save the model"
   ]
  },
  {
   "cell_type": "code",
   "execution_count": 18,
   "metadata": {},
   "outputs": [],
   "source": [
    "mlContext.Model.Save(model, trainTestSplit.TrainSet.Schema, \"sentimentClassifier.zip\");"
   ]
  }
 ],
 "metadata": {
  "kernelspec": {
   "display_name": ".NET (C#)",
   "language": "C#",
   "name": ".net-csharp"
  },
  "language_info": {
   "file_extension": ".cs",
   "mimetype": "text/x-csharp",
   "name": "C#",
   "pygments_lexer": "csharp",
   "version": "8.0"
  }
 },
 "nbformat": 4,
 "nbformat_minor": 2
}
