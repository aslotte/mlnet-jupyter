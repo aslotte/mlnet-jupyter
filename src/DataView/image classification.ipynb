{
 "cells": [
  {
   "cell_type": "markdown",
   "metadata": {},
   "source": [
    "### Image classification\n",
    "\n",
    "**Rationale**: Predict the type product based on images of merchandise\n"
   ]
  },
  {
   "cell_type": "code",
   "execution_count": null,
   "metadata": {},
   "outputs": [],
   "source": [
    "// ML.NET Nuget packages \n",
    "#r \"nuget:Microsoft.ML,1.4.0\"\n",
    "#r \"nuget:Microsoft.ML.Vision,1.4.0\"\n",
    "#r \"nuget:Microsoft.ML.ImageAnalytics,1.4.0\"\n",
    "#r \"nuget:SciSharp.TensorFlow.Redist,1.14.0\"\n",
    "    \n",
    "//CSV Helper\n",
    "#r \"nuget:CsvHelper,12.1.2\"\n",
    "    \n",
    "//Install XPlot package\n",
    "#r \"nuget:XPlot.Plotly,2.0.0\"\n",
    "\n",
    "using Microsoft.ML;\n",
    "using Microsoft.ML.Data;\n",
    "using Microsoft.ML.Transforms;\n",
    "using Microsoft.ML.Vision;\n",
    "using XPlot.Plotly;\n",
    "using CsvHelper;\n",
    "using System.IO;"
   ]
  },
  {
   "cell_type": "code",
   "execution_count": null,
   "metadata": {},
   "outputs": [],
   "source": [
    "public class ImageData\n",
    "{\n",
    "    public string ImagePath { get; set; }\n",
    "\n",
    "    public string Label { get; set; }\n",
    "}"
   ]
  },
  {
   "cell_type": "code",
   "execution_count": null,
   "metadata": {},
   "outputs": [],
   "source": [
    "public class Article\n",
    "{\n",
    "    public string Id { get; set; }\n",
    "    public string Gender { get; set; }\n",
    "    public string MasterCategory { get; set; }\n",
    "    public string SubCategory { get; set; }\n",
    "    public string ArticleType { get; set; }\n",
    "    public string BaseColor { get; set; }\n",
    "    public string Season { get; set; }\n",
    "    public string Year { get; set; }\n",
    "    public string Usage { get; set; }\n",
    "    public string ProductDisplayName { get; set; }\n",
    "}"
   ]
  },
  {
   "cell_type": "code",
   "execution_count": null,
   "metadata": {},
   "outputs": [],
   "source": [
    "//Please note to change the ImagePath here to your local path of the repo. Tensorflow needs an absolute path instead of a relative path\n",
    "var imagePath = @\"C:\\Git\\mlnet-jupyter\\src\\Datasets\\Computer Vision\\fashion-product-images-small\\images\";\n",
    "var csvPath = @\"..\\Datasets\\Computer Vision\\fashion-product-images-small\\testtrain.csv\";"
   ]
  },
  {
   "cell_type": "code",
   "execution_count": null,
   "metadata": {},
   "outputs": [],
   "source": [
    "public IEnumerable<ImageData> GetImages(string path)\n",
    "{\n",
    "    using (var reader = new StreamReader(path))\n",
    "    using (var csv = new CsvReader(reader))\n",
    "    {\n",
    "        return csv.GetRecords<Article>()\n",
    "            .Select(x => new ImageData\n",
    "            {\n",
    "                Label = x.ArticleType,\n",
    "                ImagePath = Path.Combine(imagePath, x.Id) + \".jpg\"\n",
    "            })\n",
    "            .Where(y => File.Exists(y.ImagePath))\n",
    "            .ToList();\n",
    "    }\n",
    "}"
   ]
  },
  {
   "cell_type": "code",
   "execution_count": null,
   "metadata": {},
   "outputs": [],
   "source": [
    "IEnumerable<ImageData> images = GetImages(csvPath);"
   ]
  },
  {
   "cell_type": "code",
   "execution_count": null,
   "metadata": {},
   "outputs": [],
   "source": [
    "var mlContext = new MLContext(seed: 1);\n",
    "\n",
    "var dataView = mlContext.Data.LoadFromEnumerable(images);\n",
    "dataView = mlContext.Data.ShuffleRows(dataView);"
   ]
  },
  {
   "cell_type": "markdown",
   "metadata": {},
   "source": [
    "#### Load images in to memory"
   ]
  },
  {
   "cell_type": "code",
   "execution_count": null,
   "metadata": {},
   "outputs": [],
   "source": [
    "IDataView shuffledFullImagesDataset = mlContext.Transforms.Conversion.MapValueToKey(outputColumnName: \"LabelAsKey\",\n",
    "                                        inputColumnName: \"Label\",\n",
    "                                        keyOrdinality: ValueToKeyMappingEstimator.KeyOrdinality.ByValue)\n",
    "                                        .Append(mlContext.Transforms.LoadRawImageBytes(outputColumnName: \"Image\",\n",
    "                                                                    imageFolder: imagePath,\n",
    "                                                                    inputColumnName: \"ImagePath\"))\n",
    "                                        .Fit(dataView)\n",
    "                                        .Transform(dataView);"
   ]
  },
  {
   "cell_type": "markdown",
   "metadata": {},
   "source": [
    "#### Data exploration"
   ]
  },
  {
   "cell_type": "markdown",
   "metadata": {},
   "source": [
    "#### Plotting"
   ]
  },
  {
   "cell_type": "code",
   "execution_count": null,
   "metadata": {},
   "outputs": [],
   "source": [
    "var categories = shuffledFullImagesDataset.GetColumn<string>(\"Label\");\n",
    "\n",
    "var categoriesHistogram = Chart.Plot(new Graph.Histogram \n",
    "    {\n",
    "        x = categories,  \n",
    "    });\n",
    "\n",
    "categoriesHistogram.WithLayout(new Layout.Layout { title=\"Types of images\" });\n",
    "display(categoriesHistogram);"
   ]
  },
  {
   "cell_type": "markdown",
   "metadata": {},
   "source": [
    "#### Split our data"
   ]
  },
  {
   "cell_type": "code",
   "execution_count": null,
   "metadata": {},
   "outputs": [],
   "source": [
    "var trainTestSplit = mlContext.Data.TrainTestSplit(shuffledFullImagesDataset);\n",
    "\n",
    "var testSet = trainTestSplit.TestSet;\n",
    "var trainSet = trainTestSplit.TrainSet;"
   ]
  },
  {
   "cell_type": "markdown",
   "metadata": {},
   "source": [
    "#### Data Transformation"
   ]
  },
  {
   "cell_type": "code",
   "execution_count": null,
   "metadata": {},
   "outputs": [],
   "source": [
    "var options = new ImageClassificationTrainer.Options()\n",
    "{\n",
    "    FeatureColumnName = \"Image\",\n",
    "    LabelColumnName = \"LabelAsKey\",\n",
    "    Arch = ImageClassificationTrainer.Architecture.ResnetV250,\n",
    "    Epoch = 30,\n",
    "    BatchSize = 10,\n",
    "    LearningRate = 0.01f,\n",
    "    MetricsCallback = (metrics) => Console.WriteLine(metrics),\n",
    "    ValidationSet = testSet\n",
    "};\n",
    "\n",
    "var trainingPipeline = mlContext.MulticlassClassification.Trainers.ImageClassification(options)\n",
    "        .Append(mlContext.Transforms.Conversion.MapKeyToValue(\n",
    "            outputColumnName: \"PredictedLabel\",\n",
    "            inputColumnName: \"PredictedLabel\"));"
   ]
  },
  {
   "cell_type": "markdown",
   "metadata": {},
   "source": [
    "##### Train the model"
   ]
  },
  {
   "cell_type": "code",
   "execution_count": null,
   "metadata": {
    "scrolled": true
   },
   "outputs": [],
   "source": [
    "ITransformer model = trainingPipeline.Fit(trainSet);"
   ]
  },
  {
   "cell_type": "markdown",
   "metadata": {},
   "source": [
    "#### Evaluate the model"
   ]
  },
  {
   "cell_type": "code",
   "execution_count": null,
   "metadata": {},
   "outputs": [],
   "source": [
    "var predicitions = model.Transform(testSet);\n",
    "var metrics = mlContext.MulticlassClassification.Evaluate(predicitions, labelColumnName: \"LabelAsKey\", predictedLabelColumnName: \"PredictedLabel\");"
   ]
  },
  {
   "cell_type": "code",
   "execution_count": null,
   "metadata": {},
   "outputs": [],
   "source": [
    "var confusionMatrix = Chart.Plot(new Graph.Heatmap \n",
    "    {\n",
    "        x = categories.Distinct(),\n",
    "        y = categories.Distinct().Reverse(),\n",
    "        z = metrics.ConfusionMatrix.Counts.Reverse(),   \n",
    "        zmin = 0,\n",
    "        zmax = 5,\n",
    "        colorscale = \"off\"\n",
    "    });\n",
    "\n",
    "confusionMatrix.WithLayout(new Layout.Layout { title=\"Confusion Matrix\" });\n",
    "confusionMatrix"
   ]
  },
  {
   "cell_type": "markdown",
   "metadata": {},
   "source": [
    "#### Save the model"
   ]
  },
  {
   "cell_type": "code",
   "execution_count": null,
   "metadata": {},
   "outputs": [],
   "source": [
    "mlContext.Model.Save(model, trainSet.Schema, \"imageClassifier.zip\");"
   ]
  }
 ],
 "metadata": {
  "kernelspec": {
   "display_name": ".NET (C#)",
   "language": "C#",
   "name": ".net-csharp"
  },
  "language_info": {
   "file_extension": ".cs",
   "mimetype": "text/x-csharp",
   "name": "C#",
   "pygments_lexer": "csharp",
   "version": "8.0"
  }
 },
 "nbformat": 4,
 "nbformat_minor": 2
}
