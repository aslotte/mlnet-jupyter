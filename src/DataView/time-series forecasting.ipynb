{
 "cells": [
  {
   "cell_type": "markdown",
   "metadata": {},
   "source": [
    "### Time-series forecasting\n",
    "\n",
    "**Rational**:\n",
    "Predict upcoming sales for a specific product"
   ]
  },
  {
   "cell_type": "code",
   "execution_count": null,
   "metadata": {},
   "outputs": [],
   "source": [
    "// ML.NET Nuget packages \n",
    "#r \"nuget:Microsoft.ML,1.4.0\"  \n",
    "#r \"nuget:Microsoft.ML.FastTree\"\n",
    "#r \"nuget:Microsoft.ML.TimeSeries\"\n",
    "    \n",
    "//Install XPlot package\n",
    "#r \"nuget:XPlot.Plotly,2.0.0\"\n",
    "\n",
    "using Microsoft.ML;\n",
    "using Microsoft.ML.Data;\n",
    "using XPlot.Plotly;\n",
    "using Microsoft.ML.Transforms.TimeSeries;"
   ]
  },
  {
   "cell_type": "code",
   "execution_count": null,
   "metadata": {},
   "outputs": [],
   "source": [
    "public class ProductData\n",
    "{\n",
    "    //Next month's #units sold\n",
    "    [LoadColumn(0)]\n",
    "    public float next;\n",
    "\n",
    "    [LoadColumn(1)]\n",
    "    public float productId;\n",
    "\n",
    "    [LoadColumn(2)]\n",
    "    public float year;\n",
    "\n",
    "    [LoadColumn(3)]\n",
    "    public float month;\n",
    "\n",
    "    [LoadColumn(4)]\n",
    "    public float units;\n",
    "\n",
    "    //Average #units sold per day in a month\n",
    "    [LoadColumn(5)]\n",
    "    public float avg;\n",
    "\n",
    "    [LoadColumn(6)]\n",
    "    public float count;\n",
    "\n",
    "    //Max #units sold per day in a month\n",
    "    [LoadColumn(7)]\n",
    "    public float max;\n",
    "\n",
    "    //Min #units sold per day in a month\n",
    "    [LoadColumn(8)]\n",
    "    public float min;\n",
    "\n",
    "    //Previous month's #units sold\n",
    "    [LoadColumn(9)]\n",
    "    public float prev;\n",
    "}"
   ]
  },
  {
   "cell_type": "code",
   "execution_count": null,
   "metadata": {},
   "outputs": [],
   "source": [
    "public class ProductUnitTimeSeriesPrediction\n",
    "{\n",
    "    public float[] ForecastedProductUnits { get; set; }\n",
    "\n",
    "    public float[] ConfidenceLowerBound { get; set; }\n",
    "\n",
    "    public float[] ConfidenceUpperBound { get; set; }\n",
    "}"
   ]
  },
  {
   "cell_type": "code",
   "execution_count": null,
   "metadata": {},
   "outputs": [],
   "source": [
    "var dataPath = \"../Datasets/Time-Series Forecasting/products.stats.csv\";"
   ]
  },
  {
   "cell_type": "code",
   "execution_count": null,
   "metadata": {},
   "outputs": [],
   "source": [
    "var mlContext = new MLContext(seed: 1);\n",
    "\n",
    "var dataView = mlContext.Data.LoadFromTextFile<ProductData>(dataPath, hasHeader: true, separatorChar:',');"
   ]
  },
  {
   "cell_type": "code",
   "execution_count": null,
   "metadata": {},
   "outputs": [],
   "source": [
    "//Get data for a specific product\n",
    "var productId = 988;\n",
    "\n",
    "IDataView productDataView = mlContext.Data.FilterRowsByColumn(dataView, \"productId\", productId, productId + 1);"
   ]
  },
  {
   "cell_type": "markdown",
   "metadata": {},
   "source": [
    "#### Data exploration"
   ]
  },
  {
   "cell_type": "code",
   "execution_count": null,
   "metadata": {},
   "outputs": [],
   "source": [
    "var rows = mlContext.Data.CreateEnumerable<ProductData>(productDataView, reuseRowObject: false)\n",
    "                    .Take(5)\n",
    "                    .ToList();\n",
    "\n",
    "display(rows);"
   ]
  },
  {
   "cell_type": "markdown",
   "metadata": {},
   "source": [
    "#### Plotting"
   ]
  },
  {
   "cell_type": "code",
   "execution_count": null,
   "metadata": {},
   "outputs": [],
   "source": [
    "var years = productDataView.GetColumn<float>(\"year\").ToArray();\n",
    "var months = productDataView.GetColumn<float>(\"month\").ToArray();\n",
    "\n",
    "var index = 0;\n",
    "var dates = new List<DateTime>();\n",
    "foreach(var year in years)\n",
    "{\n",
    "    dates.Add(new DateTime(Convert.ToInt32(year), Convert.ToInt32(months[index]), 1));\n",
    "    index++;\n",
    "}"
   ]
  },
  {
   "cell_type": "code",
   "execution_count": null,
   "metadata": {},
   "outputs": [],
   "source": [
    "var units = productDataView.GetColumn<float>(\"units\").ToArray();\n",
    "var max = productDataView.GetColumn<float>(\"max\").ToArray();\n",
    "var min = productDataView.GetColumn<float>(\"min\").ToArray();\n",
    "var avg = productDataView.GetColumn<float>(\"avg\").ToArray();"
   ]
  },
  {
   "cell_type": "code",
   "execution_count": null,
   "metadata": {},
   "outputs": [],
   "source": [
    "var chart = Chart.Plot(\n",
    "    new Graph.Scatter()\n",
    "    {\n",
    "        x = dates,\n",
    "        y = units,\n",
    "        name = \"Number of units\"         \n",
    "    },\n",
    "    new Layout.Layout \n",
    "    { \n",
    "        title= \"Units sold per month\",\n",
    "        yaxis = new Graph.Yaxis { rangemode = \"tozero\" }\n",
    "    } \n",
    ");\n",
    "\n",
    "chart.WithLegend(true);\n",
    "display(chart);"
   ]
  },
  {
   "cell_type": "code",
   "execution_count": null,
   "metadata": {},
   "outputs": [],
   "source": [
    "var maxScatter = new Graph.Scatter()\n",
    "{\n",
    "    x = dates,\n",
    "    y = max,\n",
    "    name = \"Max # units sold per day in month\"\n",
    "};\n",
    "\n",
    "var minScatter = new Graph.Scatter()\n",
    "{\n",
    "    x = dates,\n",
    "    y = min, \n",
    "    name = \"Min # units sold per day in month\"\n",
    "};\n",
    "    \n",
    "var avgScatter = new Graph.Scatter()\n",
    "{\n",
    "    x = dates,\n",
    "    y = avg,\n",
    "    name = \"Average # units sold per day in month\"\n",
    "};    \n",
    "\n",
    "var scatters = new List<Graph.Scatter> { maxScatter, minScatter, avgScatter };\n",
    "var layout = new Layout.Layout { title=\"Time vs Units sold\" };\n",
    "\n",
    "var chart = Chart.Plot(scatters);\n",
    "chart.WithLayout(new Layout.Layout { title = \"Units per day\" });\n",
    "display(chart);"
   ]
  },
  {
   "cell_type": "markdown",
   "metadata": {},
   "source": [
    "#### Data Transformation"
   ]
  },
  {
   "cell_type": "code",
   "execution_count": null,
   "metadata": {},
   "outputs": [],
   "source": [
    "// Create and add the forecast estimator to the pipeline.\n",
    "IEstimator<ITransformer> forecastEstimator = mlContext.Forecasting.ForecastBySsa(\n",
    "    outputColumnName: \"ForecastedProductUnits\",\n",
    "    inputColumnName: \"units\",\n",
    "    windowSize: 12,\n",
    "    seriesLength: 36,\n",
    "    trainSize: 36,\n",
    "    horizon: 2,\n",
    "    confidenceLevel: 0.95f,\n",
    "    confidenceLowerBoundColumn: nameof(ProductUnitTimeSeriesPrediction.ConfidenceLowerBound),\n",
    "    confidenceUpperBoundColumn: nameof(ProductUnitTimeSeriesPrediction.ConfidenceUpperBound));"
   ]
  },
  {
   "cell_type": "markdown",
   "metadata": {},
   "source": [
    "##### Train the model"
   ]
  },
  {
   "cell_type": "code",
   "execution_count": null,
   "metadata": {},
   "outputs": [],
   "source": [
    "ITransformer forecastTransformer = forecastEstimator.Fit(productDataView);"
   ]
  },
  {
   "cell_type": "markdown",
   "metadata": {},
   "source": [
    "#### Save the model"
   ]
  },
  {
   "cell_type": "code",
   "execution_count": null,
   "metadata": {},
   "outputs": [],
   "source": [
    "// Create the forecast engine used for creating predictions.\n",
    "var forecastEngine = forecastTransformer.CreateTimeSeriesEngine<ProductData, ProductUnitTimeSeriesPrediction>(mlContext);\n",
    "\n",
    "// Save the forecasting model so that it can be loaded within an end-user app.\n",
    "forecastEngine.CheckPoint(mlContext, \"forecastingEngine.zip\");"
   ]
  }
 ],
 "metadata": {
  "kernelspec": {
   "display_name": ".NET (C#)",
   "language": "C#",
   "name": ".net-csharp"
  },
  "language_info": {
   "file_extension": ".cs",
   "mimetype": "text/x-csharp",
   "name": "C#",
   "pygments_lexer": "csharp",
   "version": "8.0"
  }
 },
 "nbformat": 4,
 "nbformat_minor": 2
}
