{
 "cells": [
  {
   "cell_type": "markdown",
   "metadata": {},
   "source": [
    "### Time-series forecasting | Outline\n",
    "\n",
    "1. Load the data\n",
    "2. Explore and plot the data\n",
    "3. Transform the data\n",
    "4. Train the model\n",
    "5. Evaluate the model\n",
    "6. Saving the model"
   ]
  },
  {
   "cell_type": "code",
   "execution_count": 38,
   "metadata": {},
   "outputs": [
    {
     "data": {
      "text/html": [
       "Installing package Microsoft.ML, version 1.4.0-preview2..done!"
      ]
     },
     "metadata": {},
     "output_type": "display_data"
    },
    {
     "data": {
      "text/html": [
       "Successfully added reference to package Microsoft.ML, version 1.4.0-preview2"
      ]
     },
     "metadata": {},
     "output_type": "display_data"
    },
    {
     "data": {
      "text/html": [
       "Installing package Microsoft.ML.FastTree..done!"
      ]
     },
     "metadata": {},
     "output_type": "display_data"
    },
    {
     "data": {
      "text/html": [
       "Successfully added reference to package Microsoft.ML.FastTree, version 1.3.1"
      ]
     },
     "metadata": {},
     "output_type": "display_data"
    },
    {
     "data": {
      "text/html": [
       "Installing package Microsoft.ML.TimeSeries..done!"
      ]
     },
     "metadata": {},
     "output_type": "display_data"
    },
    {
     "data": {
      "text/html": [
       "Successfully added reference to package Microsoft.ML.TimeSeries, version 1.3.1"
      ]
     },
     "metadata": {},
     "output_type": "display_data"
    },
    {
     "data": {
      "text/html": [
       "Installing package XPlot.Plotly, version 2.0.0..done!"
      ]
     },
     "metadata": {},
     "output_type": "display_data"
    },
    {
     "data": {
      "text/html": [
       "Successfully added reference to package XPlot.Plotly, version 2.0.0"
      ]
     },
     "metadata": {},
     "output_type": "display_data"
    }
   ],
   "source": [
    "// ML.NET Nuget packages \n",
    "#r \"nuget:Microsoft.ML,1.4.0-preview2\"  \n",
    "#r \"nuget:Microsoft.ML.FastTree\"\n",
    "#r \"nuget:Microsoft.ML.TimeSeries\"\n",
    "    \n",
    "//Install XPlot package\n",
    "#r \"nuget:XPlot.Plotly,2.0.0\"\n",
    "\n",
    "using Microsoft.ML;\n",
    "using Microsoft.ML.Data;\n",
    "using XPlot.Plotly;\n",
    "using Microsoft.ML.Transforms.TimeSeries;"
   ]
  },
  {
   "cell_type": "code",
   "execution_count": 26,
   "metadata": {},
   "outputs": [],
   "source": [
    "public class ProductData\n",
    "{\n",
    "    //Next month's #units sold\n",
    "    [LoadColumn(0)]\n",
    "    public float next;\n",
    "\n",
    "    [LoadColumn(1)]\n",
    "    public float productId;\n",
    "\n",
    "    [LoadColumn(2)]\n",
    "    public float year;\n",
    "\n",
    "    [LoadColumn(3)]\n",
    "    public float month;\n",
    "\n",
    "    [LoadColumn(4)]\n",
    "    public float units;\n",
    "\n",
    "    //Average #units sold per day in a month\n",
    "    [LoadColumn(5)]\n",
    "    public float avg;\n",
    "\n",
    "    [LoadColumn(6)]\n",
    "    public float count;\n",
    "\n",
    "    //Max #units sold per day in a month\n",
    "    [LoadColumn(7)]\n",
    "    public float max;\n",
    "\n",
    "    //Min #units sold per day in a month\n",
    "    [LoadColumn(8)]\n",
    "    public float min;\n",
    "\n",
    "    //Previous month's #units sold\n",
    "    [LoadColumn(9)]\n",
    "    public float prev;\n",
    "}"
   ]
  },
  {
   "cell_type": "code",
   "execution_count": 18,
   "metadata": {},
   "outputs": [],
   "source": [
    "public class ProductUnitTimeSeriesPrediction\n",
    "{\n",
    "    public float[] ForecastedProductUnits { get; set; }\n",
    "\n",
    "    public float[] ConfidenceLowerBound { get; set; }\n",
    "\n",
    "    public float[] ConfidenceUpperBound { get; set; }\n",
    "}"
   ]
  },
  {
   "cell_type": "code",
   "execution_count": 19,
   "metadata": {},
   "outputs": [],
   "source": [
    "var dataPath = \"./Datasets/Time-Series Forecasting/products.stats.csv\";"
   ]
  },
  {
   "cell_type": "code",
   "execution_count": 29,
   "metadata": {},
   "outputs": [],
   "source": [
    "var mlContext = new MLContext(seed: 1);\n",
    "\n",
    "var dataView = mlContext.Data.LoadFromTextFile<ProductData>(dataPath, hasHeader: true, separatorChar:',');"
   ]
  },
  {
   "cell_type": "code",
   "execution_count": 30,
   "metadata": {},
   "outputs": [],
   "source": [
    "//Get data for a specific product\n",
    "var productId = 988;\n",
    "\n",
    "IDataView productDataView = mlContext.Data.FilterRowsByColumn(dataView, \"productId\", productId, productId + 1);"
   ]
  },
  {
   "cell_type": "markdown",
   "metadata": {},
   "source": [
    "#### Data exploration"
   ]
  },
  {
   "cell_type": "code",
   "execution_count": 44,
   "metadata": {},
   "outputs": [
    {
     "data": {
      "text/html": [
       "<table><thead><tr><th><i>index</i></th><th>next</th><th>productId</th><th>year</th><th>month</th><th>units</th><th>avg</th><th>count</th><th>max</th><th>min</th><th>prev</th></tr></thead><tbody><tr><td>0</td><td>971</td><td>988</td><td>2017</td><td>1</td><td>759</td><td>42</td><td>18</td><td>150</td><td>1</td><td>427</td></tr><tr><td>1</td><td>1175</td><td>988</td><td>2017</td><td>2</td><td>971</td><td>48</td><td>20</td><td>205</td><td>5</td><td>759</td></tr><tr><td>2</td><td>547</td><td>988</td><td>2017</td><td>3</td><td>1175</td><td>55</td><td>21</td><td>210</td><td>2</td><td>971</td></tr><tr><td>3</td><td>968</td><td>988</td><td>2017</td><td>4</td><td>547</td><td>28</td><td>19</td><td>108</td><td>6</td><td>1175</td></tr><tr><td>4</td><td>834</td><td>988</td><td>2017</td><td>5</td><td>968</td><td>40</td><td>24</td><td>161</td><td>5</td><td>547</td></tr></tbody></table>"
      ]
     },
     "metadata": {},
     "output_type": "display_data"
    }
   ],
   "source": [
    "var rows = mlContext.Data.CreateEnumerable<ProductData>(productDataView, reuseRowObject: false)\n",
    "                    .Take(5)\n",
    "                    .ToList();\n",
    "\n",
    "display(rows);"
   ]
  },
  {
   "cell_type": "markdown",
   "metadata": {},
   "source": [
    "#### Plotting"
   ]
  },
  {
   "cell_type": "code",
   "execution_count": 52,
   "metadata": {},
   "outputs": [],
   "source": [
    "var years = productDataView.GetColumn<float>(\"year\").ToArray();\n",
    "var months = productDataView.GetColumn<float>(\"month\").ToArray();\n",
    "\n",
    "var index = 0;\n",
    "var dates = new List<DateTime>();\n",
    "foreach(var year in years)\n",
    "{\n",
    "    dates.Add(new DateTime(Convert.ToInt32(year), Convert.ToInt32(months[index]), 1));\n",
    "    index++;\n",
    "}"
   ]
  },
  {
   "cell_type": "code",
   "execution_count": 87,
   "metadata": {},
   "outputs": [],
   "source": [
    "var units = productDataView.GetColumn<float>(\"units\").ToArray();\n",
    "var max = productDataView.GetColumn<float>(\"max\").ToArray();\n",
    "var min = productDataView.GetColumn<float>(\"min\").ToArray();\n",
    "var avg = productDataView.GetColumn<float>(\"avg\").ToArray();"
   ]
  },
  {
   "cell_type": "code",
   "execution_count": 112,
   "metadata": {},
   "outputs": [
    {
     "data": {
      "text/html": [
       "<div id=\"418f52ed-3e5c-491e-8e6c-bef0842024e7\" style=\"width: 900px; height: 500px;\"></div><script type=\"text/javascript\">\r\n",
       "\r\n",
       "var renderPlotly = function() {\r\n",
       "    var xplotRequire = requirejs.config({context:'xplot-2.0.0',paths:{plotly:'https://cdn.plot.ly/plotly-1.49.2.min'}});\r\n",
       "    xplotRequire(['plotly'], function(Plotly) {\r\n",
       "\n",
       "            var data = [{\"type\":\"scatter\",\"x\":[\"2017-01-01T00:00:00\",\"2017-02-01T00:00:00\",\"2017-03-01T00:00:00\",\"2017-04-01T00:00:00\",\"2017-05-01T00:00:00\",\"2017-06-01T00:00:00\",\"2017-07-01T00:00:00\",\"2017-08-01T00:00:00\",\"2017-09-01T00:00:00\",\"2017-10-01T00:00:00\"],\"y\":[759.0,971.0,1175.0,547.0,968.0,834.0,882.0,1445.0,1036.0,1094.0],\"name\":\"Number of units\"}];\n",
       "            var layout = {\"title\":\"Units sold per month\",\"showlegend\":true,\"yaxis\":{\"rangemode\":\"tozero\",\"_isSubplotObj\":true}};\n",
       "            Plotly.newPlot('418f52ed-3e5c-491e-8e6c-bef0842024e7', data, layout);\n",
       "        });\r\n",
       "};\r\n",
       "if ((typeof(requirejs) !==  typeof(Function)) || (typeof(requirejs.config) !== typeof(Function))) { \r\n",
       "    var script = document.createElement(\"script\"); \r\n",
       "    script.setAttribute(\"src\", \"https://cdnjs.cloudflare.com/ajax/libs/require.js/2.3.6/require.min.js\"); \r\n",
       "    script.onload = function(){\r\n",
       "        renderPlotly();\r\n",
       "    };\r\n",
       "    document.getElementsByTagName(\"head\")[0].appendChild(script); \r\n",
       "}\r\n",
       "else {\r\n",
       "    renderPlotly();\r\n",
       "}\r\n",
       "</script>"
      ]
     },
     "metadata": {},
     "output_type": "display_data"
    }
   ],
   "source": [
    "var chart = Chart.Plot(\n",
    "    new Graph.Scatter()\n",
    "    {\n",
    "        x = dates,\n",
    "        y = units,\n",
    "        name = \"Number of units\"         \n",
    "    },\n",
    "    new Layout.Layout \n",
    "    { \n",
    "        title= \"Units sold per month\",\n",
    "        yaxis = new Graph.Yaxis { rangemode = \"tozero\" }\n",
    "    } \n",
    ");\n",
    "\n",
    "chart.WithLegend(true);\n",
    "display(chart);"
   ]
  },
  {
   "cell_type": "code",
   "execution_count": 103,
   "metadata": {},
   "outputs": [
    {
     "data": {
      "text/html": [
       "<div id=\"075074f4-a9e5-4f82-963e-ab54849cca41\" style=\"width: 900px; height: 500px;\"></div><script type=\"text/javascript\">\r\n",
       "\r\n",
       "var renderPlotly = function() {\r\n",
       "    var xplotRequire = requirejs.config({context:'xplot-2.0.0',paths:{plotly:'https://cdn.plot.ly/plotly-1.49.2.min'}});\r\n",
       "    xplotRequire(['plotly'], function(Plotly) {\r\n",
       "\n",
       "            var data = [{\"type\":\"scatter\",\"x\":[\"2017-01-01T00:00:00\",\"2017-02-01T00:00:00\",\"2017-03-01T00:00:00\",\"2017-04-01T00:00:00\",\"2017-05-01T00:00:00\",\"2017-06-01T00:00:00\",\"2017-07-01T00:00:00\",\"2017-08-01T00:00:00\",\"2017-09-01T00:00:00\",\"2017-10-01T00:00:00\"],\"y\":[150.0,205.0,210.0,108.0,161.0,220.0,143.0,153.0,146.0,220.0],\"name\":\"Max # units sold per day in month\"},{\"type\":\"scatter\",\"x\":[\"2017-01-01T00:00:00\",\"2017-02-01T00:00:00\",\"2017-03-01T00:00:00\",\"2017-04-01T00:00:00\",\"2017-05-01T00:00:00\",\"2017-06-01T00:00:00\",\"2017-07-01T00:00:00\",\"2017-08-01T00:00:00\",\"2017-09-01T00:00:00\",\"2017-10-01T00:00:00\"],\"y\":[1.0,5.0,2.0,6.0,5.0,4.0,1.0,2.0,2.0,1.0],\"name\":\"Min # units sold per day in month\"},{\"type\":\"scatter\",\"x\":[\"2017-01-01T00:00:00\",\"2017-02-01T00:00:00\",\"2017-03-01T00:00:00\",\"2017-04-01T00:00:00\",\"2017-05-01T00:00:00\",\"2017-06-01T00:00:00\",\"2017-07-01T00:00:00\",\"2017-08-01T00:00:00\",\"2017-09-01T00:00:00\",\"2017-10-01T00:00:00\"],\"y\":[42.0,48.0,55.0,28.0,40.0,34.0,35.0,55.0,41.0,43.0],\"name\":\"Average # units sold per day in month\"}];\n",
       "            var layout = {\"title\":\"Units per day\"};\n",
       "            Plotly.newPlot('075074f4-a9e5-4f82-963e-ab54849cca41', data, layout);\n",
       "        });\r\n",
       "};\r\n",
       "if ((typeof(requirejs) !==  typeof(Function)) || (typeof(requirejs.config) !== typeof(Function))) { \r\n",
       "    var script = document.createElement(\"script\"); \r\n",
       "    script.setAttribute(\"src\", \"https://cdnjs.cloudflare.com/ajax/libs/require.js/2.3.6/require.min.js\"); \r\n",
       "    script.onload = function(){\r\n",
       "        renderPlotly();\r\n",
       "    };\r\n",
       "    document.getElementsByTagName(\"head\")[0].appendChild(script); \r\n",
       "}\r\n",
       "else {\r\n",
       "    renderPlotly();\r\n",
       "}\r\n",
       "</script>"
      ]
     },
     "metadata": {},
     "output_type": "display_data"
    }
   ],
   "source": [
    "var maxScatter = new Graph.Scatter()\n",
    "{\n",
    "    x = dates,\n",
    "    y = max,\n",
    "    name = \"Max # units sold per day in month\"\n",
    "};\n",
    "\n",
    "var minScatter = new Graph.Scatter()\n",
    "{\n",
    "    x = dates,\n",
    "    y = min, \n",
    "    name = \"Min # units sold per day in month\"\n",
    "};\n",
    "    \n",
    "var avgScatter = new Graph.Scatter()\n",
    "{\n",
    "    x = dates,\n",
    "    y = avg,\n",
    "    name = \"Average # units sold per day in month\"\n",
    "};    \n",
    "\n",
    "var scatters = new List<Graph.Scatter> { maxScatter, minScatter, avgScatter };\n",
    "var layout = new Layout.Layout { title=\"Time vs Units sold\" };\n",
    "\n",
    "var chart = Chart.Plot(scatters);\n",
    "chart.WithLayout(new Layout.Layout { title = \"Units per day\" });\n",
    "display(chart);"
   ]
  },
  {
   "cell_type": "markdown",
   "metadata": {},
   "source": [
    "#### Data Transformation"
   ]
  },
  {
   "cell_type": "code",
   "execution_count": 8,
   "metadata": {},
   "outputs": [],
   "source": [
    "// Create and add the forecast estimator to the pipeline.\n",
    "IEstimator<ITransformer> forecastEstimator = mlContext.Forecasting.ForecastBySsa(\n",
    "    outputColumnName: \"ForecastedProductUnits\",\n",
    "    inputColumnName: \"units\",\n",
    "    windowSize: 12,\n",
    "    seriesLength: 36,\n",
    "    trainSize: 36,\n",
    "    horizon: 2,\n",
    "    confidenceLevel: 0.95f,\n",
    "    confidenceLowerBoundColumn: nameof(ProductUnitTimeSeriesPrediction.ConfidenceLowerBound),\n",
    "    confidenceUpperBoundColumn: nameof(ProductUnitTimeSeriesPrediction.ConfidenceUpperBound));"
   ]
  },
  {
   "cell_type": "markdown",
   "metadata": {},
   "source": [
    "##### Train the model"
   ]
  },
  {
   "cell_type": "code",
   "execution_count": 33,
   "metadata": {},
   "outputs": [],
   "source": [
    "ITransformer forecastTransformer = forecastEstimator.Fit(productDataView);"
   ]
  },
  {
   "cell_type": "markdown",
   "metadata": {},
   "source": [
    "#### Save the model"
   ]
  },
  {
   "cell_type": "code",
   "execution_count": 40,
   "metadata": {},
   "outputs": [],
   "source": [
    "// Create the forecast engine used for creating predictions.\n",
    "var forecastEngine = forecastTransformer.CreateTimeSeriesEngine<ProductData, ProductUnitTimeSeriesPrediction>(mlContext);\n",
    "\n",
    "// Save the forecasting model so that it can be loaded within an end-user app.\n",
    "forecastEngine.CheckPoint(mlContext, \"forecastingEngine.zip\");"
   ]
  }
 ],
 "metadata": {
  "kernelspec": {
   "display_name": ".NET (C#)",
   "language": "C#",
   "name": ".net-csharp"
  },
  "language_info": {
   "file_extension": ".cs",
   "mimetype": "text/x-csharp",
   "name": "C#",
   "pygments_lexer": "csharp",
   "version": "8.0"
  }
 },
 "nbformat": 4,
 "nbformat_minor": 2
}
