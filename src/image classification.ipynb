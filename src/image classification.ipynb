{
 "cells": [
  {
   "cell_type": "markdown",
   "metadata": {},
   "source": [
    "### Image classification\n",
    "\n",
    "**Rationale**: Predict the type product based on images of merchandise\n"
   ]
  },
  {
   "cell_type": "code",
   "execution_count": 1,
   "metadata": {},
   "outputs": [
    {
     "data": {
      "text/html": [
       "Installing package Microsoft.ML, version 1.4.0...................done!"
      ]
     },
     "metadata": {},
     "output_type": "display_data"
    },
    {
     "data": {
      "text/html": [
       "Successfully added reference to package Microsoft.ML, version 1.4.0"
      ]
     },
     "metadata": {},
     "output_type": "display_data"
    },
    {
     "data": {
      "text/html": [
       "Installing package Microsoft.ML.ImageAnalytics, version 1.4.0......done!"
      ]
     },
     "metadata": {},
     "output_type": "display_data"
    },
    {
     "data": {
      "text/html": [
       "Successfully added reference to package Microsoft.ML.ImageAnalytics, version 1.4.0"
      ]
     },
     "metadata": {},
     "output_type": "display_data"
    },
    {
     "data": {
      "text/html": [
       "Installing package Microsoft.ML.Dnn, version 0.16.0-preview2........done!"
      ]
     },
     "metadata": {},
     "output_type": "display_data"
    },
    {
     "data": {
      "text/html": [
       "Successfully added reference to package Microsoft.ML.Dnn, version 0.16.0-preview2"
      ]
     },
     "metadata": {},
     "output_type": "display_data"
    },
    {
     "data": {
      "text/html": [
       "Installing package CsvHelper.......done!"
      ]
     },
     "metadata": {},
     "output_type": "display_data"
    },
    {
     "data": {
      "text/html": [
       "Successfully added reference to package CsvHelper, version 12.2.1"
      ]
     },
     "metadata": {},
     "output_type": "display_data"
    },
    {
     "data": {
      "text/html": [
       "Installing package XPlot.Plotly, version 2.0.0.......done!"
      ]
     },
     "metadata": {},
     "output_type": "display_data"
    },
    {
     "data": {
      "text/html": [
       "Successfully added reference to package XPlot.Plotly, version 2.0.0"
      ]
     },
     "metadata": {},
     "output_type": "display_data"
    }
   ],
   "source": [
    "// ML.NET Nuget packages \n",
    "#r \"nuget:Microsoft.ML,1.4.0\"\n",
    "#r \"nuget:Microsoft.ML.ImageAnalytics,1.4.0\"\n",
    "#r \"nuget:Microsoft.ML.Dnn,0.16.0-preview2\"\n",
    "    \n",
    "//CSV Helper\n",
    "#r \"nuget:CsvHelper\"\n",
    "    \n",
    "//Install XPlot package\n",
    "#r \"nuget:XPlot.Plotly,2.0.0\"\n",
    "\n",
    "using Microsoft.ML;\n",
    "using Microsoft.ML.Data;\n",
    "using Microsoft.ML.Transforms;\n",
    "using XPlot.Plotly;\n",
    "using CsvHelper;\n",
    "using System.IO;"
   ]
  },
  {
   "cell_type": "code",
   "execution_count": 2,
   "metadata": {},
   "outputs": [],
   "source": [
    "public class ImageData\n",
    "{\n",
    "    public string ImagePath { get; set; }\n",
    "\n",
    "    public string Label { get; set; }\n",
    "}"
   ]
  },
  {
   "cell_type": "code",
   "execution_count": 3,
   "metadata": {},
   "outputs": [],
   "source": [
    "public class Article\n",
    "{\n",
    "    public string Id { get; set; }\n",
    "    public string Gender { get; set; }\n",
    "    public string MasterCategory { get; set; }\n",
    "    public string SubCategory { get; set; }\n",
    "    public string ArticleType { get; set; }\n",
    "    public string BaseColor { get; set; }\n",
    "    public string Season { get; set; }\n",
    "    public string Year { get; set; }\n",
    "    public string Usage { get; set; }\n",
    "    public string ProductDisplayName { get; set; }\n",
    "}"
   ]
  },
  {
   "cell_type": "code",
   "execution_count": 4,
   "metadata": {},
   "outputs": [],
   "source": [
    "var imagePath = @\".\\Datasets\\Computer Vision\\fashion-product-images-small\\images\";\n",
    "var csvPath = @\".\\Datasets\\Computer Vision\\fashion-product-images-small\\testtrain.csv\";"
   ]
  },
  {
   "cell_type": "code",
   "execution_count": 5,
   "metadata": {},
   "outputs": [],
   "source": [
    "public IEnumerable<ImageData> GetImages(string path)\n",
    "{\n",
    "    using (var reader = new StreamReader(path))\n",
    "    using (var csv = new CsvReader(reader))\n",
    "    {\n",
    "        return csv.GetRecords<Article>()\n",
    "            .Select(x => new ImageData\n",
    "            {\n",
    "                Label = x.ArticleType,\n",
    "                ImagePath = Path.Combine(imagePath, x.Id) + \".jpg\"\n",
    "            })\n",
    "            .Where(y => File.Exists(y.ImagePath))\n",
    "            .ToList();\n",
    "    }\n",
    "}"
   ]
  },
  {
   "cell_type": "code",
   "execution_count": 6,
   "metadata": {},
   "outputs": [],
   "source": [
    "IEnumerable<ImageData> images = GetImages(csvPath);"
   ]
  },
  {
   "cell_type": "code",
   "execution_count": 7,
   "metadata": {},
   "outputs": [],
   "source": [
    "var mlContext = new MLContext(seed: 1);\n",
    "\n",
    "var dataView = mlContext.Data.LoadFromEnumerable(images);\n",
    "dataView = mlContext.Data.ShuffleRows(dataView);"
   ]
  },
  {
   "cell_type": "markdown",
   "metadata": {},
   "source": [
    "#### Load images in to memory"
   ]
  },
  {
   "cell_type": "code",
   "execution_count": 8,
   "metadata": {},
   "outputs": [
    {
     "ename": "Unhandled Exception",
     "evalue": "(6,69): error CS1739: The best overload for 'LoadImages' does not have a parameter named 'useImageType'",
     "output_type": "error",
     "traceback": [
      "(6,69): error CS1739: The best overload for 'LoadImages' does not have a parameter named 'useImageType'"
     ]
    }
   ],
   "source": [
    "IDataView shuffledFullImagesDataset = mlContext.Transforms.Conversion.MapValueToKey(outputColumnName: \"LabelAsKey\",\n",
    "                                        inputColumnName: \"Label\",\n",
    "                                        keyOrdinality: ValueToKeyMappingEstimator.KeyOrdinality.ByValue)\n",
    "                                        .Append(mlContext.Transforms.LoadImages(outputColumnName: \"Image\",\n",
    "                                                                    imageFolder: imagePath,\n",
    "                                                                    inputColumnName: \"ImagePath\"))\n",
    "                                        .Fit(dataView)\n",
    "                                        .Transform(dataView);"
   ]
  },
  {
   "cell_type": "markdown",
   "metadata": {},
   "source": [
    "#### Data exploration"
   ]
  },
  {
   "cell_type": "markdown",
   "metadata": {},
   "source": [
    "#### Plotting"
   ]
  },
  {
   "cell_type": "code",
   "execution_count": 9,
   "metadata": {},
   "outputs": [
    {
     "ename": "Unhandled Exception",
     "evalue": "(1,18): error CS0103: The name 'shuffledFullImagesDataset' does not exist in the current context",
     "output_type": "error",
     "traceback": [
      "(1,18): error CS0103: The name 'shuffledFullImagesDataset' does not exist in the current context"
     ]
    }
   ],
   "source": [
    "var categories = shuffledFullImagesDataset.GetColumn<string>(\"Label\");\n",
    "\n",
    "var categoriesHistogram = Chart.Plot(new Graph.Histogram \n",
    "    {\n",
    "        x = categories,  \n",
    "    });\n",
    "\n",
    "categoriesHistogram.WithLayout(new Layout.Layout { title=\"Types of images\" });\n",
    "display(categoriesHistogram);"
   ]
  },
  {
   "cell_type": "markdown",
   "metadata": {},
   "source": [
    "#### Split our data"
   ]
  },
  {
   "cell_type": "code",
   "execution_count": 10,
   "metadata": {},
   "outputs": [
    {
     "ename": "Unhandled Exception",
     "evalue": "(1,52): error CS0103: The name 'shuffledFullImagesDataset' does not exist in the current context",
     "output_type": "error",
     "traceback": [
      "(1,52): error CS0103: The name 'shuffledFullImagesDataset' does not exist in the current context"
     ]
    }
   ],
   "source": [
    "var trainTestSplit = mlContext.Data.TrainTestSplit(shuffledFullImagesDataset);\n",
    "\n",
    "var testSet = trainTestSplit.TestSet;\n",
    "var trainSet = trainTestSplit.TrainSet;"
   ]
  },
  {
   "cell_type": "markdown",
   "metadata": {},
   "source": [
    "#### Data Transformation"
   ]
  },
  {
   "cell_type": "code",
   "execution_count": 11,
   "metadata": {},
   "outputs": [
    {
     "ename": "Unhandled Exception",
     "evalue": "(6,40): error CS0103: The name 'testSet' does not exist in the current context",
     "output_type": "error",
     "traceback": [
      "(6,40): error CS0103: The name 'testSet' does not exist in the current context"
     ]
    }
   ],
   "source": [
    "var trainingPipeline = mlContext.Model.ImageClassification(\"Image\", \"LabelAsKey\",\n",
    "                        arch: ImageClassificationEstimator.Architecture.InceptionV3,\n",
    "                        epoch: 30,\n",
    "                        batchSize: 10,\n",
    "                        metricsCallback: (metrics) => Console.WriteLine(metrics),\n",
    "                        validationSet: testSet)\n",
    "                .Append(mlContext.Transforms.Conversion.MapKeyToValue(outputColumnName: \"PredictedLabel\", inputColumnName: \"PredictedLabel\"));"
   ]
  },
  {
   "cell_type": "markdown",
   "metadata": {},
   "source": [
    "##### Train the model"
   ]
  },
  {
   "cell_type": "code",
   "execution_count": 12,
   "metadata": {
    "scrolled": true
   },
   "outputs": [
    {
     "ename": "Unhandled Exception",
     "evalue": "(1,22): error CS0103: The name 'trainingPipeline' does not exist in the current context\r\n(1,43): error CS0103: The name 'trainSet' does not exist in the current context",
     "output_type": "error",
     "traceback": [
      "(1,22): error CS0103: The name 'trainingPipeline' does not exist in the current context\r\n(1,43): error CS0103: The name 'trainSet' does not exist in the current context"
     ]
    }
   ],
   "source": [
    "ITransformer model = trainingPipeline.Fit(trainSet);"
   ]
  },
  {
   "cell_type": "markdown",
   "metadata": {},
   "source": [
    "#### Evaluate the model"
   ]
  },
  {
   "cell_type": "code",
   "execution_count": 13,
   "metadata": {},
   "outputs": [
    {
     "ename": "Unhandled Exception",
     "evalue": "(1,20): error CS0103: The name 'model' does not exist in the current context\r\n(1,36): error CS0103: The name 'testSet' does not exist in the current context\r\n(2,59): error CS0103: The name 'predictionsDataView' does not exist in the current context",
     "output_type": "error",
     "traceback": [
      "(1,20): error CS0103: The name 'model' does not exist in the current context\r\n(1,36): error CS0103: The name 'testSet' does not exist in the current context\r\n(2,59): error CS0103: The name 'predictionsDataView' does not exist in the current context"
     ]
    }
   ],
   "source": [
    "var predicitions = model.Transform(testSet);\n",
    "var metrics = mlContext.MulticlassClassification.Evaluate(predictionsDataView, labelColumnName: \"LabelAsKey\", predictedLabelColumnName: \"PredictedLabel\");\n"
   ]
  },
  {
   "cell_type": "code",
   "execution_count": 14,
   "metadata": {},
   "outputs": [
    {
     "ename": "Unhandled Exception",
     "evalue": "(3,13): error CS0103: The name 'categories' does not exist in the current context\r\n(4,13): error CS0103: The name 'categories' does not exist in the current context\r\n(5,13): error CS0103: The name 'metrics' does not exist in the current context",
     "output_type": "error",
     "traceback": [
      "(3,13): error CS0103: The name 'categories' does not exist in the current context\r\n(4,13): error CS0103: The name 'categories' does not exist in the current context\r\n(5,13): error CS0103: The name 'metrics' does not exist in the current context"
     ]
    }
   ],
   "source": [
    "var confusionMatrix = Chart.Plot(new Graph.Heatmap \n",
    "    {\n",
    "        x = categories.Distinct(),\n",
    "        y = categories.Distinct().Reverse(),\n",
    "        z = metrics.ConfusionMatrix.Counts.Reverse(),   \n",
    "        zmin = 0,\n",
    "        zmax = 5,\n",
    "        colorscale = \"off\"\n",
    "    });\n",
    "\n",
    "confusionMatrix.WithLayout(new Layout.Layout { title=\"Confusion Matrix\" });\n",
    "confusionMatrix"
   ]
  },
  {
   "cell_type": "markdown",
   "metadata": {},
   "source": [
    "#### Save the model"
   ]
  },
  {
   "cell_type": "code",
   "execution_count": 15,
   "metadata": {},
   "outputs": [
    {
     "ename": "Unhandled Exception",
     "evalue": "(1,22): error CS0103: The name 'model' does not exist in the current context\r\n(1,29): error CS0103: The name 'trainSet' does not exist in the current context",
     "output_type": "error",
     "traceback": [
      "(1,22): error CS0103: The name 'model' does not exist in the current context\r\n(1,29): error CS0103: The name 'trainSet' does not exist in the current context"
     ]
    }
   ],
   "source": [
    "mlContext.Model.Save(model, trainSet.Schema, \"imageClassifier.zip\");"
   ]
  }
 ],
 "metadata": {
  "kernelspec": {
   "display_name": ".NET (C#)",
   "language": "C#",
   "name": ".net-csharp"
  },
  "language_info": {
   "file_extension": ".cs",
   "mimetype": "text/x-csharp",
   "name": "C#",
   "pygments_lexer": "csharp",
   "version": "8.0"
  }
 },
 "nbformat": 4,
 "nbformat_minor": 2
}
