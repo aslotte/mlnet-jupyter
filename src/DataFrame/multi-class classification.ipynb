{
 "cells": [
  {
   "cell_type": "markdown",
   "metadata": {},
   "source": [
    "### Multi-class classification using a DataFrame\n",
    "\n",
    "**Rationale**: Predict the product category based on description"
   ]
  },
  {
   "cell_type": "code",
   "execution_count": null,
   "metadata": {},
   "outputs": [],
   "source": [
    "// ML.NET Nuget packages \n",
    "#r \"nuget:Microsoft.ML,1.4.0\"  \n",
    "    \n",
    "//Install XPlot package\n",
    "#r \"nuget:XPlot.Plotly,2.0.0\"\n",
    "\n",
    "// Install DataFrame\n",
    "#r \"nuget:Microsoft.Data.Analysis\"\n",
    "    \n",
    "using Microsoft.ML;\n",
    "using Microsoft.ML.Data;\n",
    "using XPlot.Plotly;\n",
    "using Microsoft.Data.Analysis; "
   ]
  },
  {
   "cell_type": "code",
   "execution_count": null,
   "metadata": {},
   "outputs": [],
   "source": [
    "//This is boilerplate code for formatting the DataFrame\n",
    "\n",
    "using Microsoft.AspNetCore.Html;\n",
    "Formatter<DataFrame>.Register((df, writer) =>\n",
    "{\n",
    "    var headers = new List<IHtmlContent>();\n",
    "    headers.Add(th(i(\"index\")));\n",
    "    headers.AddRange(df.Columns.Select(c => (IHtmlContent) th(c.Name)));\n",
    "    var rows = new List<List<IHtmlContent>>();\n",
    "    var take = 20;\n",
    "    for (var i = 0; i < Math.Min(take, df.Rows.Count); i++)\n",
    "    {\n",
    "        var cells = new List<IHtmlContent>();\n",
    "        cells.Add(td(i));\n",
    "        foreach (var obj in df.Rows[i])\n",
    "        {\n",
    "            cells.Add(td(obj));\n",
    "        }\n",
    "        rows.Add(cells);\n",
    "    }\n",
    "\n",
    "    var t = table(\n",
    "        thead(\n",
    "            headers),\n",
    "        tbody(\n",
    "            rows.Select(\n",
    "                r => tr(r))));\n",
    "\n",
    "    writer.Write(t);\n",
    "}, \"text/html\");"
   ]
  },
  {
   "cell_type": "code",
   "execution_count": null,
   "metadata": {},
   "outputs": [],
   "source": [
    "var dataPath = \"../Datasets/Multi-Class-Classification Category/flipkart_com-ecommerce_sample.csv\";\n",
    "var df = DataFrame.LoadCsv(dataPath);\n",
    "\n",
    "display(df.Info());"
   ]
  },
  {
   "cell_type": "markdown",
   "metadata": {},
   "source": [
    "#### Data exploration"
   ]
  },
  {
   "cell_type": "code",
   "execution_count": null,
   "metadata": {},
   "outputs": [],
   "source": [
    "var mlContext = new MLContext(seed: 1);\n",
    "\n",
    "display(df.Head(1));"
   ]
  },
  {
   "cell_type": "markdown",
   "metadata": {},
   "source": [
    "#### Plotting"
   ]
  },
  {
   "cell_type": "code",
   "execution_count": null,
   "metadata": {},
   "outputs": [],
   "source": [
    "var categories = df[\"category\"];\n",
    "\n",
    "var categoriesHistogram = Chart.Plot(new Graph.Histogram \n",
    "    {\n",
    "        x = categories,  \n",
    "    });\n",
    "\n",
    "categoriesHistogram.WithLayout(new Layout.Layout { title=\"Distribution of categories\" });\n",
    "display(categoriesHistogram);"
   ]
  },
  {
   "cell_type": "markdown",
   "metadata": {},
   "source": [
    "#### Data Transformation"
   ]
  },
  {
   "cell_type": "code",
   "execution_count": null,
   "metadata": {},
   "outputs": [],
   "source": [
    "var dataProcessPipeline = mlContext.Transforms.Conversion.MapValueToKey(\"category\", \"category\")\n",
    "                              .Append(mlContext.Transforms.Categorical.OneHotHashEncoding(\"product_name\"))\n",
    "                              .Append(mlContext.Transforms.Categorical.OneHotHashEncoding(\"brand\"))\n",
    "                              .Append(mlContext.Transforms.Text.FeaturizeText(\"description\"))\n",
    "                              .Append(mlContext.Transforms.Concatenate(\"Features\", new[] { \"product_name\", \"brand\", \"description\" }))\n",
    "                              .Append(mlContext.Transforms.NormalizeMinMax(\"Features\", \"Features\"));"
   ]
  },
  {
   "cell_type": "code",
   "execution_count": null,
   "metadata": {},
   "outputs": [],
   "source": [
    "var trainer = mlContext.MulticlassClassification.Trainers.SdcaMaximumEntropy(\"category\", \"Features\")\n",
    "                .Append(mlContext.Transforms.Conversion.MapKeyToValue(\"PredictedLabel\", \"PredictedLabel\"));\n",
    "\n",
    "var trainingPipeline = dataProcessPipeline.Append(trainer);"
   ]
  },
  {
   "cell_type": "markdown",
   "metadata": {},
   "source": [
    "##### Cross-validate the model (5-times fold)"
   ]
  },
  {
   "cell_type": "code",
   "execution_count": null,
   "metadata": {},
   "outputs": [],
   "source": [
    "var crossValidationResults = mlContext.MulticlassClassification.CrossValidate(df, trainingPipeline, numberOfFolds: 5, labelColumnName: \"category\");\n",
    "\n",
    "var avgAccuracy = crossValidationResults.Average(x => x.Metrics.MicroAccuracy);\n",
    "var metrics = crossValidationResults.OrderByDescending(x => x.Metrics.MicroAccuracy).FirstOrDefault().Metrics;\n",
    "\n",
    "display(\"Accuracy:\" + \" \" + avgAccuracy)"
   ]
  },
  {
   "cell_type": "markdown",
   "metadata": {},
   "source": [
    "##### Train the model"
   ]
  },
  {
   "cell_type": "code",
   "execution_count": null,
   "metadata": {},
   "outputs": [],
   "source": [
    "ITransformer model = trainingPipeline.Fit(dataView);"
   ]
  },
  {
   "cell_type": "markdown",
   "metadata": {},
   "source": [
    "#### Evaluate the model"
   ]
  },
  {
   "cell_type": "code",
   "execution_count": null,
   "metadata": {},
   "outputs": [],
   "source": [
    "var confusionMatrix = Chart.Plot(new Graph.Heatmap \n",
    "    {\n",
    "        x = categories.Distinct(),\n",
    "        y = categories.Distinct().Reverse(),\n",
    "        z = metrics.ConfusionMatrix.Counts.Reverse(),   \n",
    "        zmin = 0,\n",
    "        zmax = 10,\n",
    "        colorscale = \"off\"\n",
    "    });\n",
    "\n",
    "confusionMatrix.WithLayout(new Layout.Layout { title=\"Confusion Matrix\" });\n",
    "confusionMatrix"
   ]
  },
  {
   "cell_type": "markdown",
   "metadata": {},
   "source": [
    "#### Save the model"
   ]
  },
  {
   "cell_type": "code",
   "execution_count": null,
   "metadata": {},
   "outputs": [],
   "source": [
    "mlContext.Model.Save(model, dataView.Schema, \"productCategoryClassifier.zip\");"
   ]
  }
 ],
 "metadata": {
  "kernelspec": {
   "display_name": ".NET (C#)",
   "language": "C#",
   "name": ".net-csharp"
  },
  "language_info": {
   "file_extension": ".cs",
   "mimetype": "text/x-csharp",
   "name": "C#",
   "pygments_lexer": "csharp",
   "version": "8.0"
  }
 },
 "nbformat": 4,
 "nbformat_minor": 2
}
